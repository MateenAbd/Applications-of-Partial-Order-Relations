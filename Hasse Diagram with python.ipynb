{
 "cells": [
  {
   "cell_type": "code",
   "execution_count": 2,
   "id": "740e2e49",
   "metadata": {},
   "outputs": [
    {
     "name": "stdout",
     "output_type": "stream",
     "text": [
      "Enter all ordered pairs separated by spaces: (1,1) (1,2) (1,3) (1,4) (1,5) (1,7) (1,8) (1,9) (2,2) (2,4) (2,6) (2,8) (3,3) (3,6) (3,9) (4,4) (4,8) (5,5) (6,6) (7,7) (8,8) (9,9)\n",
      "Reflexive ✅\n",
      "Antisymmetric ✅\n",
      "Not Transitive ❌\n",
      "The relation is not a partial order relation ❌\n",
      "Enter all ordered pairs separated by spaces: (1,1) (1,2) (1,3) (1,4) (1,5) (1,6) (1,7) (1,8) (1,9) (2,2) (2,4) (2,6) (2,8) (3,3) (3,6) (3,9) (4,4) (4,8) (5,5) (6,6) (7,7) (8,8) (9,9)\n",
      "Reflexive ✅\n",
      "Antisymmetric ✅\n",
      "Transitive ✅\n",
      "The relation is a partial order relation ✅\n"
     ]
    },
    {
     "name": "stderr",
     "output_type": "stream",
     "text": [
      "C:\\Users\\MATEEN\\AppData\\Local\\Temp\\ipykernel_18296\\2470624131.py:74: DeprecationWarning: nx.nx_pydot.graphviz_layout depends on the pydot package, which hasknown issues and is not actively maintained. Consider usingnx.nx_agraph.graphviz_layout instead.\n",
      "\n",
      "See https://github.com/networkx/networkx/issues/5723\n",
      "  pos = nx.nx_pydot.graphviz_layout(G, prog=\"dot\")\n"
     ]
    },
    {
     "data": {
      "image/png": "[encoded data removed]",
      "text/plain": [
       "<Figure size 640x480 with 1 Axes>"
      ]
     },
     "metadata": {},
     "output_type": "display_data"
    }
   ],
   "source": [
    "import networkx as nx\n",
    "import matplotlib.pyplot as plt\n",
    "import pydot\n",
    "\n",
    "\n",
    "def is_reflexive(relation):\n",
    "    # Getting the set of elements from the relation\n",
    "    elements = set()\n",
    "    for a,b in relation:\n",
    "        elements.add(a)\n",
    "        elements.add(b)\n",
    "    \n",
    "    # Checking if every element is related to itself\n",
    "    for x in elements:\n",
    "        if (x,x) not in relation:\n",
    "            print(\"Not Reflexive \\u274C\")\n",
    "            return False\n",
    "    print(\"Reflexive \\u2705\")\n",
    "    return True\n",
    "\n",
    "\n",
    "def is_antisymmetric(relation):\n",
    "    # Checking if for every pair (a,b), there is no pair (b,a) with a != b\n",
    "    for a, b in relation:\n",
    "        if a != b and (b, a) in relation:\n",
    "            print(\"Not Antisymmetric \\u274C\")\n",
    "            return False\n",
    "    print(\"Antisymmetric \\u2705\")\n",
    "    return True\n",
    "\n",
    "\n",
    "def is_transitive(relation):\n",
    "    # Checking if for every pair (a,b) and (b,c), there is a pair (a,c)\n",
    "    for a, b in relation:\n",
    "        for c, d in relation:\n",
    "            if b == c and (a, d) not in relation:\n",
    "                print(\"Not Transitive \\u274C\")\n",
    "                return False\n",
    "    print(\"Transitive \\u2705\")\n",
    "    return True\n",
    "\n",
    "\n",
    "def is_partial_order(relation):\n",
    "    reflexive = is_reflexive(relation)\n",
    "    antisymmetric = is_antisymmetric(relation)\n",
    "    transitive = is_transitive(relation)\n",
    "    return reflexive and antisymmetric and transitive\n",
    "\n",
    "\n",
    "def draw_hasse_diagram(relation):\n",
    "    G = nx.DiGraph()\n",
    "\n",
    "    # Adding the nodes and edges from the relation\n",
    "    G.add_edges_from(relation)\n",
    "\n",
    "    # Removing the transitive edges\n",
    "    for u in G.nodes():\n",
    "        for v in G.nodes():\n",
    "            if u != v and G.has_edge(u, v):\n",
    "                for w in G.nodes():\n",
    "                    if v != w and G.has_edge(v, w) and G.has_edge(u, w):\n",
    "                        G.remove_edge(u, w)\n",
    "\n",
    "    # Removing the reflexive edges\n",
    "    G.remove_edges_from(nx.selfloop_edges(G))\n",
    "\n",
    "    # Reversing the direction of the edges\n",
    "    G = G.reverse()\n",
    "    # I did this because we want to draw G from bottom to top according to convention for Hasse diagrams\n",
    "    # The dot layout algorithm function that I used in the next line produces hierarchical or layered drawings\n",
    "    #   of directed graphs, where the nodes are arranged in ranks and the edges tend to point downwards (top to bottom)\n",
    "\n",
    "    # Drawing the graph using dot layout algorithm\n",
    "    pos = nx.nx_pydot.graphviz_layout(G, prog=\"dot\")\n",
    "    nx.draw(G, pos, with_labels=True, node_color=\"lightgreen\", arrows=False)\n",
    "    plt.show() # Showing the graph on screen\n",
    "\n",
    "\n",
    "while True:\n",
    "    # Taking relation input as ordered pairs from user as a single string separated by spaces\n",
    "    relation = []\n",
    "    input_string = input(\"\n\n Enter all ordered pairs separated by spaces: \")\n",
    "\n",
    "    # Splitting string by spaces and converting each ordered pair to tuple of integers\n",
    "    for ordered_pair in input_string.split():\n",
    "        ordered_pair = tuple(map(int, ordered_pair.strip(\"()\").split(\",\")))\n",
    "        relation.append(ordered_pair)\n",
    "\n",
    "    if is_partial_order(relation):\n",
    "        print(\"The relation is a partial order relation \\u2705\")\n",
    "        # Drawing Hasse diagram  \n",
    "        draw_hasse_diagram(relation)\n",
    "        break\n",
    "    else:\n",
    "       print(\"The relation is not a partial order relation \\u274C\")\n"
   ]
  },
  {
   "cell_type": "code",
   "execution_count": null,
   "id": "f7f8c4cc",
   "metadata": {},
   "outputs": [],
   "source": []
  }
 ],
 "metadata": {
  "kernelspec": {
   "display_name": "Python 3 (ipykernel)",
   "language": "python",
   "name": "python3"
  },
  "language_info": {
   "codemirror_mode": {
    "name": "ipython",
    "version": 3
   },
   "file_extension": ".py",
   "mimetype": "text/x-python",
   "name": "python",
   "nbconvert_exporter": "python",
   "pygments_lexer": "ipython3",
   "version": "3.10.9"
  }
 },
 "nbformat": 4,
 "nbformat_minor": 5
}
